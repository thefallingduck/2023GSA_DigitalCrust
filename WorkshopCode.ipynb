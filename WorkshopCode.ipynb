{
  "cells": [
    {
      "cell_type": "markdown",
      "metadata": {
        "id": "view-in-github",
        "colab_type": "text"
      },
      "source": [
        "<a href=\"https://colab.research.google.com/github/thefallingduck/2023GSA_DigitalCrust/blob/main/WorkshopCode.ipynb\" target=\"_parent\"><img src=\"https://colab.research.google.com/assets/colab-badge.svg\" alt=\"Open In Colab\"/></a>"
      ]
    },
    {
      "cell_type": "markdown",
      "source": [
        "Simple R figure from Macrostrat dataset."
      ],
      "metadata": {
        "id": "feCdc_YtTmm0"
      }
    },
    {
      "cell_type": "code",
      "execution_count": null,
      "metadata": {
        "colab": {
          "base_uri": "https://localhost:8080/"
        },
        "id": "f2BNJ-eAJtOR",
        "outputId": "05227513-a8dd-42d8-9ef0-2c98033eeb4e"
      },
      "outputs": [
        {
          "output_type": "stream",
          "name": "stderr",
          "text": [
            "Installing package into ‘/usr/local/lib/R/site-library’\n",
            "(as ‘lib’ is unspecified)\n",
            "\n",
            "Installing package into ‘/usr/local/lib/R/site-library’\n",
            "(as ‘lib’ is unspecified)\n",
            "\n",
            "Installing package into ‘/usr/local/lib/R/site-library’\n",
            "(as ‘lib’ is unspecified)\n",
            "\n"
          ]
        }
      ],
      "source": [
        "install.packages(\"deeptime\")\n",
        "install.packages(\"dplyr\")\n",
        "install.packages(\"ggplot2\")\n",
        "#install.packages(\"tidyverse\")\n",
        "library(deeptime)\n",
        "library(dplyr)\n",
        "library(ggplot2)\n",
        "#library(tidyverse)"
      ]
    },
    {
      "cell_type": "code",
      "execution_count": null,
      "metadata": {
        "id": "Zqk8TpYy1AH5"
      },
      "outputs": [],
      "source": [
        "# Get all NA sedimentary units\n",
        "SedimentaryRock <- read.csv(\n",
        "  'https://macrostrat.org/api/v2/units?format=csv&lith_class=sedimentary&environ_class=marine&project_id=1,7&response=long'\n",
        ")\n",
        "\n",
        "# Create a sequence of ages\n",
        "Age <- seq(0, 3500, by = 1)\n",
        "\n",
        "# Create a tibble to store results\n",
        "#Record <- tibble(Age = Age) %>%\n",
        " # mutate(\n",
        "  #  Units = map_dbl(Age, ~ sum(SedimentaryRock$b_age > .x & SedimentaryRock$t_age <= .x, na.rm = TRUE)),\n",
        "   # Area = map_dbl(Age, ~ sum(SedimentaryRock$col_area[SedimentaryRock$b_age > .x & SedimentaryRock$t_age <= .x], na.rm = TRUE))\n",
        "  #)\n",
        "\n",
        "Record2 <- tibble(Age = Age) %>%\n",
        "  rowwise() %>%\n",
        "  mutate( Units = sum(SedimentaryRock$b_age > Age & SedimentaryRock$t_age <= Age, na.rm = TRUE),\n",
        "          Area = sum(SedimentaryRock$col_area[SedimentaryRock$b_age > Age & SedimentaryRock$t_age <= Age], na.rm = TRUE))\n"
      ]
    },
    {
      "cell_type": "code",
      "execution_count": null,
      "metadata": {
        "id": "QaEA8G8w0Ab8"
      },
      "outputs": [],
      "source": [
        "# Plot using ggplot\n",
        "ggplot(Record2, aes(x = Age, y = Units)) +\n",
        "  geom_line() +\n",
        "  scale_x_reverse() +\n",
        "  coord_geo(\n",
        "    xlim = c(3000, 0),\n",
        "    lab = list(FALSE, TRUE),\n",
        "    dat = list(\"eras\", \"eons\"),\n",
        "    pos = as.list(rep(\"bottom\", 2)),\n",
        "    height = list(unit(.25, \"line\"), unit(.5, \"line\")),\n",
        "    size = \"auto\"\n",
        "  )\n",
        "\n",
        "\n",
        "# Plot using ggplot\n",
        "ggplot(Record2, aes(x = Age, y = Units)) +\n",
        "  geom_line() +\n",
        "  scale_x_reverse() +\n",
        "  coord_geo(\n",
        "    xlim = c(3000, 0),\n",
        "    lab = list(FALSE, TRUE),\n",
        "    dat = list(\"eras\", \"eons\"),\n",
        "    pos = as.list(rep(\"bottom\", 2)),\n",
        "    height = list(unit(.25, \"line\"), unit(.5, \"line\")),\n",
        "    size = \"auto\"\n",
        "  )"
      ]
    },
    {
      "cell_type": "code",
      "source": [],
      "metadata": {
        "id": "u_YFIxtGJcLM"
      },
      "execution_count": null,
      "outputs": []
    }
  ],
  "metadata": {
    "colab": {
      "provenance": [],
      "include_colab_link": true
    },
    "kernelspec": {
      "display_name": "R",
      "name": "ir"
    },
    "language_info": {
      "name": "R"
    }
  },
  "nbformat": 4,
  "nbformat_minor": 0
}